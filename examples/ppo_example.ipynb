{
 "cells": [
  {
   "cell_type": "code",
   "execution_count": null,
   "id": "9739648e",
   "metadata": {},
   "outputs": [],
   "source": [
    "import jax\n",
    "import jax.numpy as jnp\n",
    "import jax_ppo\n",
    "import flock_env\n",
    "import matplotlib.pyplot as plt\n",
    "import optax"
   ]
  },
  {
   "cell_type": "code",
   "execution_count": null,
   "id": "283d59c3-d6bc-4479-8f93-35b1099f7e49",
   "metadata": {},
   "outputs": [],
   "source": [
    "import ppo_training"
   ]
  },
  {
   "cell_type": "code",
   "execution_count": null,
   "id": "46ffa015",
   "metadata": {},
   "outputs": [],
   "source": [
    "k = jax.random.PRNGKey(101)"
   ]
  },
  {
   "cell_type": "markdown",
   "id": "945fe065",
   "metadata": {},
   "source": [
    "## Hyper-Parameters"
   ]
  },
  {
   "cell_type": "code",
   "execution_count": null,
   "id": "8ce709ba-3081-4efd-a637-65632bd18596",
   "metadata": {},
   "outputs": [],
   "source": [
    "ppo_params = jax_ppo.default_params._replace(\n",
    "    gamma=0.99, \n",
    "    gae_lambda=0.99, \n",
    "    entropy_coeff=0.002, \n",
    "    adam_eps=1e-8, \n",
    "    clip_coeff=0.2\n",
    ")"
   ]
  },
  {
   "cell_type": "code",
   "execution_count": null,
   "id": "23ce3e4c-15c7-43fa-be55-4bd229438f39",
   "metadata": {},
   "outputs": [],
   "source": [
    "env_params = flock_env.EnvParams(\n",
    "    min_speed=0.02,\n",
    "    max_speed=0.05,\n",
    "    max_rotate=0.075,\n",
    "    max_accelerate=0.01,\n",
    "    agent_radius=0.01,\n",
    "    collision_penalty=0.7,\n",
    ")"
   ]
  },
  {
   "cell_type": "code",
   "execution_count": null,
   "id": "c77be432-51eb-4987-a9c2-a616d06101e0",
   "metadata": {},
   "outputs": [],
   "source": [
    "p = dict(\n",
    "    rng=k,\n",
    "    n_agents=100,\n",
    "    n_train_steps=1_000,\n",
    "    test_every=100,\n",
    "    n_env_steps=200,\n",
    "    n_train_env=4,\n",
    "    n_test_env=2,\n",
    "    n_update_epochs=2,\n",
    "    mini_batch_size=512,\n",
    "    max_mini_batches=20,\n",
    "    network_layer_width=16,\n",
    "    n_network_layers=2,\n",
    "    env_params=env_params,\n",
    "    ppo_params=ppo_params,\n",
    "    env_type=flock_env.VisionEnv,\n",
    ")"
   ]
  },
  {
   "cell_type": "code",
   "execution_count": null,
   "id": "c1dbed3d-3469-4a99-a540-3874d11cd1e1",
   "metadata": {},
   "outputs": [],
   "source": [
    "total_mini_batches = min(\n",
    "    p[\"n_train_env\"] * p[\"n_env_steps\"] * p[\"n_agents\"] // p[\"mini_batch_size\"],\n",
    "    p[\"max_mini_batches\"]\n",
    ")\n",
    "total_steps = p[\"n_train_steps\"] * p[\"n_update_epochs\"] * total_mini_batches\n",
    "p[\"training_schedule\"] = optax.linear_schedule(2e-3, 2e-5, total_steps)"
   ]
  },
  {
   "cell_type": "markdown",
   "id": "3ed84f1f-f4be-4d25-8df5-aee50436fcb1",
   "metadata": {},
   "source": [
    "## Train Agent"
   ]
  },
  {
   "cell_type": "code",
   "execution_count": null,
   "id": "0999e755-ca46-4f9e-b724-d69f35a14043",
   "metadata": {},
   "outputs": [],
   "source": [
    "rewards, losses, test_rewards, test_trajectories = ppo_training.training(**p)"
   ]
  },
  {
   "cell_type": "markdown",
   "id": "a0426f6d-16d4-415e-8413-9769d4e5045b",
   "metadata": {},
   "source": [
    "## Analysis"
   ]
  },
  {
   "cell_type": "code",
   "execution_count": null,
   "id": "b36de5a6-027a-4567-8453-b738c625b9c6",
   "metadata": {},
   "outputs": [],
   "source": [
    "plt.plot(jnp.mean(jnp.sum(rewards, axis=-1), axis=(1, 2)));\n",
    "plt.xlabel(\"Train Step\")\n",
    "plt.ylabel(\"Avg Total Rewards\");"
   ]
  },
  {
   "cell_type": "code",
   "execution_count": null,
   "id": "277f2e94",
   "metadata": {},
   "outputs": [],
   "source": [
    "import matplotlib\n",
    "matplotlib.use('Agg')\n",
    "matplotlib.rc('animation', html='html5')"
   ]
  },
  {
   "cell_type": "code",
   "execution_count": null,
   "id": "01c0826b",
   "metadata": {},
   "outputs": [],
   "source": [
    "anim = flock_env.visualisation.animate_agents(\n",
    "    test_trajectories.position[-1, 1, :],\n",
    "    test_trajectories.heading[-1, 1, :],\n",
    "    test_rewards[-1, 1, :],\n",
    "    cmap=\"cool\"\n",
    ")"
   ]
  },
  {
   "cell_type": "code",
   "execution_count": null,
   "id": "7a89a93c",
   "metadata": {},
   "outputs": [],
   "source": [
    "anim"
   ]
  },
  {
   "cell_type": "code",
   "execution_count": null,
   "id": "c099b83a-c979-4f7b-8b59-683be74cfcd5",
   "metadata": {},
   "outputs": [],
   "source": [
    "anim.save('flock_100.gif', writer='imagemagick', fps=16, dpi=90)"
   ]
  },
  {
   "cell_type": "code",
   "execution_count": null,
   "id": "6501a008-7f00-43af-a043-9939941a9342",
   "metadata": {},
   "outputs": [],
   "source": []
  }
 ],
 "metadata": {
  "kernelspec": {
   "display_name": "Python 3 (ipykernel)",
   "language": "python",
   "name": "python3"
  },
  "language_info": {
   "codemirror_mode": {
    "name": "ipython",
    "version": 3
   },
   "file_extension": ".py",
   "mimetype": "text/x-python",
   "name": "python",
   "nbconvert_exporter": "python",
   "pygments_lexer": "ipython3",
   "version": "3.10.12"
  }
 },
 "nbformat": 4,
 "nbformat_minor": 5
}
